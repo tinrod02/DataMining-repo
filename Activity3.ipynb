{
 "cells": [
  {
   "cell_type": "markdown",
   "id": "d5d569f3-8b96-418b-9d7e-1f4f6d7d2bfd",
   "metadata": {},
   "source": [
    "<h1>Data Analytics Project</h1>"
   ]
  },
  {
   "cell_type": "markdown",
   "id": "572035ab-35c3-4232-bfb7-5f035e76303a",
   "metadata": {},
   "source": [
    "<h1>United Kingdom Road Accident Data Analysis</h1>\n",
    "<h3>Inclusive Years : 2019-2020</h3>\n",
    "<h5>Analyst: Cristina Gail Rodelas</h5>"
   ]
  },
  {
   "cell_type": "code",
   "execution_count": 96,
   "id": "283f6af3-087b-4a98-b337-b621ccc4424c",
   "metadata": {},
   "outputs": [],
   "source": [
    "import numpy as np\n",
    "import pandas as pd\n",
    "import warnings\n",
    "#import matplotlib.pyplot as plt\n",
    "#import seaborn as sns\n",
    "from scipy.stats import f_oneway\n",
    "warnings.filterwarnings('ignore')"
   ]
  },
  {
   "cell_type": "code",
   "execution_count": 97,
   "id": "5bf4765c-bc64-4217-ae64-f1b104c07309",
   "metadata": {},
   "outputs": [],
   "source": [
    "accident = pd.read_csv('dataset\\\\accident_data.csv')"
   ]
  },
  {
   "cell_type": "code",
   "execution_count": 98,
   "id": "bf32fa34-3a0f-40ff-9834-263331725020",
   "metadata": {},
   "outputs": [
    {
     "data": {
      "text/html": [
       "<div>\n",
       "<style scoped>\n",
       "    .dataframe tbody tr th:only-of-type {\n",
       "        vertical-align: middle;\n",
       "    }\n",
       "\n",
       "    .dataframe tbody tr th {\n",
       "        vertical-align: top;\n",
       "    }\n",
       "\n",
       "    .dataframe thead th {\n",
       "        text-align: right;\n",
       "    }\n",
       "</style>\n",
       "<table border=\"1\" class=\"dataframe\">\n",
       "  <thead>\n",
       "    <tr style=\"text-align: right;\">\n",
       "      <th></th>\n",
       "      <th>Index</th>\n",
       "      <th>Accident_Severity</th>\n",
       "      <th>Accident Date</th>\n",
       "      <th>Latitude</th>\n",
       "      <th>Light_Conditions</th>\n",
       "      <th>District Area</th>\n",
       "      <th>Longitude</th>\n",
       "      <th>Number_of_Casualties</th>\n",
       "      <th>Number_of_Vehicles</th>\n",
       "      <th>Road_Surface_Conditions</th>\n",
       "      <th>Road_Type</th>\n",
       "      <th>Urban_or_Rural_Area</th>\n",
       "      <th>Weather_Conditions</th>\n",
       "      <th>Vehicle_Type</th>\n",
       "    </tr>\n",
       "  </thead>\n",
       "  <tbody>\n",
       "    <tr>\n",
       "      <th>0</th>\n",
       "      <td>200701BS64157</td>\n",
       "      <td>Serious</td>\n",
       "      <td>05/06/2019</td>\n",
       "      <td>51.506187</td>\n",
       "      <td>Darkness - lights lit</td>\n",
       "      <td>Kensington and Chelsea</td>\n",
       "      <td>-0.209082</td>\n",
       "      <td>1</td>\n",
       "      <td>2</td>\n",
       "      <td>Dry</td>\n",
       "      <td>Single carriageway</td>\n",
       "      <td>Urban</td>\n",
       "      <td>Fine no high winds</td>\n",
       "      <td>Car</td>\n",
       "    </tr>\n",
       "    <tr>\n",
       "      <th>1</th>\n",
       "      <td>200701BS65737</td>\n",
       "      <td>Serious</td>\n",
       "      <td>02/07/2019</td>\n",
       "      <td>51.495029</td>\n",
       "      <td>Daylight</td>\n",
       "      <td>Kensington and Chelsea</td>\n",
       "      <td>-0.173647</td>\n",
       "      <td>1</td>\n",
       "      <td>2</td>\n",
       "      <td>Wet or damp</td>\n",
       "      <td>Single carriageway</td>\n",
       "      <td>Urban</td>\n",
       "      <td>Raining no high winds</td>\n",
       "      <td>Car</td>\n",
       "    </tr>\n",
       "    <tr>\n",
       "      <th>2</th>\n",
       "      <td>200701BS66127</td>\n",
       "      <td>Serious</td>\n",
       "      <td>26/08/2019</td>\n",
       "      <td>51.517715</td>\n",
       "      <td>Darkness - lighting unknown</td>\n",
       "      <td>Kensington and Chelsea</td>\n",
       "      <td>-0.210215</td>\n",
       "      <td>1</td>\n",
       "      <td>3</td>\n",
       "      <td>Dry</td>\n",
       "      <td>NaN</td>\n",
       "      <td>Urban</td>\n",
       "      <td>NaN</td>\n",
       "      <td>Taxi/Private hire car</td>\n",
       "    </tr>\n",
       "    <tr>\n",
       "      <th>3</th>\n",
       "      <td>200701BS66128</td>\n",
       "      <td>Serious</td>\n",
       "      <td>16/08/2019</td>\n",
       "      <td>51.495478</td>\n",
       "      <td>Daylight</td>\n",
       "      <td>Kensington and Chelsea</td>\n",
       "      <td>-0.202731</td>\n",
       "      <td>1</td>\n",
       "      <td>4</td>\n",
       "      <td>Dry</td>\n",
       "      <td>Single carriageway</td>\n",
       "      <td>Urban</td>\n",
       "      <td>Fine no high winds</td>\n",
       "      <td>Bus or coach (17 or more pass seats)</td>\n",
       "    </tr>\n",
       "    <tr>\n",
       "      <th>4</th>\n",
       "      <td>200701BS66837</td>\n",
       "      <td>Slight</td>\n",
       "      <td>03/09/2019</td>\n",
       "      <td>51.488576</td>\n",
       "      <td>Darkness - lights lit</td>\n",
       "      <td>Kensington and Chelsea</td>\n",
       "      <td>-0.192487</td>\n",
       "      <td>1</td>\n",
       "      <td>2</td>\n",
       "      <td>Dry</td>\n",
       "      <td>NaN</td>\n",
       "      <td>Urban</td>\n",
       "      <td>NaN</td>\n",
       "      <td>Other vehicle</td>\n",
       "    </tr>\n",
       "    <tr>\n",
       "      <th>...</th>\n",
       "      <td>...</td>\n",
       "      <td>...</td>\n",
       "      <td>...</td>\n",
       "      <td>...</td>\n",
       "      <td>...</td>\n",
       "      <td>...</td>\n",
       "      <td>...</td>\n",
       "      <td>...</td>\n",
       "      <td>...</td>\n",
       "      <td>...</td>\n",
       "      <td>...</td>\n",
       "      <td>...</td>\n",
       "      <td>...</td>\n",
       "      <td>...</td>\n",
       "    </tr>\n",
       "    <tr>\n",
       "      <th>660674</th>\n",
       "      <td>201091NM01760</td>\n",
       "      <td>Slight</td>\n",
       "      <td>18/02/2022</td>\n",
       "      <td>57.374005</td>\n",
       "      <td>Daylight</td>\n",
       "      <td>Highland</td>\n",
       "      <td>-3.467828</td>\n",
       "      <td>2</td>\n",
       "      <td>1</td>\n",
       "      <td>Dry</td>\n",
       "      <td>Single carriageway</td>\n",
       "      <td>Rural</td>\n",
       "      <td>Fine no high winds</td>\n",
       "      <td>Car</td>\n",
       "    </tr>\n",
       "    <tr>\n",
       "      <th>660675</th>\n",
       "      <td>201091NM01881</td>\n",
       "      <td>Slight</td>\n",
       "      <td>21/02/2022</td>\n",
       "      <td>57.232273</td>\n",
       "      <td>Darkness - no lighting</td>\n",
       "      <td>Highland</td>\n",
       "      <td>-3.809281</td>\n",
       "      <td>1</td>\n",
       "      <td>1</td>\n",
       "      <td>Frost or ice</td>\n",
       "      <td>Single carriageway</td>\n",
       "      <td>Rural</td>\n",
       "      <td>Fine no high winds</td>\n",
       "      <td>Car</td>\n",
       "    </tr>\n",
       "    <tr>\n",
       "      <th>660676</th>\n",
       "      <td>201091NM01935</td>\n",
       "      <td>Slight</td>\n",
       "      <td>23/02/2022</td>\n",
       "      <td>57.585044</td>\n",
       "      <td>Daylight</td>\n",
       "      <td>Highland</td>\n",
       "      <td>-3.862727</td>\n",
       "      <td>1</td>\n",
       "      <td>3</td>\n",
       "      <td>Frost or ice</td>\n",
       "      <td>Single carriageway</td>\n",
       "      <td>Rural</td>\n",
       "      <td>Fine no high winds</td>\n",
       "      <td>Car</td>\n",
       "    </tr>\n",
       "    <tr>\n",
       "      <th>660677</th>\n",
       "      <td>201091NM01964</td>\n",
       "      <td>Serious</td>\n",
       "      <td>23/02/2022</td>\n",
       "      <td>57.214898</td>\n",
       "      <td>Darkness - no lighting</td>\n",
       "      <td>Highland</td>\n",
       "      <td>-3.823997</td>\n",
       "      <td>1</td>\n",
       "      <td>2</td>\n",
       "      <td>Wet or damp</td>\n",
       "      <td>Single carriageway</td>\n",
       "      <td>Rural</td>\n",
       "      <td>Fine no high winds</td>\n",
       "      <td>Motorcycle over 500cc</td>\n",
       "    </tr>\n",
       "    <tr>\n",
       "      <th>660678</th>\n",
       "      <td>201091NM02142</td>\n",
       "      <td>Serious</td>\n",
       "      <td>28/02/2022</td>\n",
       "      <td>57.575210</td>\n",
       "      <td>Daylight</td>\n",
       "      <td>Highland</td>\n",
       "      <td>-3.895673</td>\n",
       "      <td>1</td>\n",
       "      <td>1</td>\n",
       "      <td>Wet or damp</td>\n",
       "      <td>Dual carriageway</td>\n",
       "      <td>Rural</td>\n",
       "      <td>Snowing no high winds</td>\n",
       "      <td>Car</td>\n",
       "    </tr>\n",
       "  </tbody>\n",
       "</table>\n",
       "<p>660679 rows × 14 columns</p>\n",
       "</div>"
      ],
      "text/plain": [
       "                Index Accident_Severity Accident Date   Latitude  \\\n",
       "0       200701BS64157           Serious    05/06/2019  51.506187   \n",
       "1       200701BS65737           Serious    02/07/2019  51.495029   \n",
       "2       200701BS66127           Serious    26/08/2019  51.517715   \n",
       "3       200701BS66128           Serious    16/08/2019  51.495478   \n",
       "4       200701BS66837            Slight    03/09/2019  51.488576   \n",
       "...               ...               ...           ...        ...   \n",
       "660674  201091NM01760            Slight    18/02/2022  57.374005   \n",
       "660675  201091NM01881            Slight    21/02/2022  57.232273   \n",
       "660676  201091NM01935            Slight    23/02/2022  57.585044   \n",
       "660677  201091NM01964           Serious    23/02/2022  57.214898   \n",
       "660678  201091NM02142           Serious    28/02/2022  57.575210   \n",
       "\n",
       "                   Light_Conditions           District Area  Longitude  \\\n",
       "0             Darkness - lights lit  Kensington and Chelsea  -0.209082   \n",
       "1                          Daylight  Kensington and Chelsea  -0.173647   \n",
       "2       Darkness - lighting unknown  Kensington and Chelsea  -0.210215   \n",
       "3                          Daylight  Kensington and Chelsea  -0.202731   \n",
       "4             Darkness - lights lit  Kensington and Chelsea  -0.192487   \n",
       "...                             ...                     ...        ...   \n",
       "660674                     Daylight                Highland  -3.467828   \n",
       "660675       Darkness - no lighting                Highland  -3.809281   \n",
       "660676                     Daylight                Highland  -3.862727   \n",
       "660677       Darkness - no lighting                Highland  -3.823997   \n",
       "660678                     Daylight                Highland  -3.895673   \n",
       "\n",
       "        Number_of_Casualties  Number_of_Vehicles Road_Surface_Conditions  \\\n",
       "0                          1                   2                     Dry   \n",
       "1                          1                   2             Wet or damp   \n",
       "2                          1                   3                     Dry   \n",
       "3                          1                   4                     Dry   \n",
       "4                          1                   2                     Dry   \n",
       "...                      ...                 ...                     ...   \n",
       "660674                     2                   1                     Dry   \n",
       "660675                     1                   1            Frost or ice   \n",
       "660676                     1                   3            Frost or ice   \n",
       "660677                     1                   2             Wet or damp   \n",
       "660678                     1                   1             Wet or damp   \n",
       "\n",
       "                 Road_Type Urban_or_Rural_Area     Weather_Conditions  \\\n",
       "0       Single carriageway               Urban     Fine no high winds   \n",
       "1       Single carriageway               Urban  Raining no high winds   \n",
       "2                      NaN               Urban                    NaN   \n",
       "3       Single carriageway               Urban     Fine no high winds   \n",
       "4                      NaN               Urban                    NaN   \n",
       "...                    ...                 ...                    ...   \n",
       "660674  Single carriageway               Rural     Fine no high winds   \n",
       "660675  Single carriageway               Rural     Fine no high winds   \n",
       "660676  Single carriageway               Rural     Fine no high winds   \n",
       "660677  Single carriageway               Rural     Fine no high winds   \n",
       "660678    Dual carriageway               Rural  Snowing no high winds   \n",
       "\n",
       "                                Vehicle_Type  \n",
       "0                                        Car  \n",
       "1                                        Car  \n",
       "2                      Taxi/Private hire car  \n",
       "3       Bus or coach (17 or more pass seats)  \n",
       "4                              Other vehicle  \n",
       "...                                      ...  \n",
       "660674                                   Car  \n",
       "660675                                   Car  \n",
       "660676                                   Car  \n",
       "660677                 Motorcycle over 500cc  \n",
       "660678                                   Car  \n",
       "\n",
       "[660679 rows x 14 columns]"
      ]
     },
     "execution_count": 98,
     "metadata": {},
     "output_type": "execute_result"
    }
   ],
   "source": [
    "accident"
   ]
  },
  {
   "cell_type": "markdown",
   "id": "df0be678-d485-4645-ad0f-acd218f40a75",
   "metadata": {},
   "source": [
    "<h1>Data Preparation</h1>"
   ]
  },
  {
   "cell_type": "code",
   "execution_count": 99,
   "id": "29b719be-3b40-40b9-bae0-07ab507c1b31",
   "metadata": {},
   "outputs": [
    {
     "name": "stdout",
     "output_type": "stream",
     "text": [
      "<class 'pandas.core.frame.DataFrame'>\n",
      "RangeIndex: 660679 entries, 0 to 660678\n",
      "Data columns (total 14 columns):\n",
      " #   Column                   Non-Null Count   Dtype  \n",
      "---  ------                   --------------   -----  \n",
      " 0   Index                    660679 non-null  object \n",
      " 1   Accident_Severity        660679 non-null  object \n",
      " 2   Accident Date            660679 non-null  object \n",
      " 3   Latitude                 660654 non-null  float64\n",
      " 4   Light_Conditions         660679 non-null  object \n",
      " 5   District Area            660679 non-null  object \n",
      " 6   Longitude                660653 non-null  float64\n",
      " 7   Number_of_Casualties     660679 non-null  int64  \n",
      " 8   Number_of_Vehicles       660679 non-null  int64  \n",
      " 9   Road_Surface_Conditions  659953 non-null  object \n",
      " 10  Road_Type                656159 non-null  object \n",
      " 11  Urban_or_Rural_Area      660664 non-null  object \n",
      " 12  Weather_Conditions       646551 non-null  object \n",
      " 13  Vehicle_Type             660679 non-null  object \n",
      "dtypes: float64(2), int64(2), object(10)\n",
      "memory usage: 70.6+ MB\n"
     ]
    }
   ],
   "source": [
    "accident.info()"
   ]
  },
  {
   "cell_type": "code",
   "execution_count": 100,
   "id": "5afb5252-4e70-404c-b205-abfdec886169",
   "metadata": {},
   "outputs": [
    {
     "data": {
      "text/plain": [
       "Index                       object\n",
       "Accident_Severity           object\n",
       "Accident Date               object\n",
       "Latitude                   float64\n",
       "Light_Conditions            object\n",
       "District Area               object\n",
       "Longitude                  float64\n",
       "Number_of_Casualties         int64\n",
       "Number_of_Vehicles           int64\n",
       "Road_Surface_Conditions     object\n",
       "Road_Type                   object\n",
       "Urban_or_Rural_Area         object\n",
       "Weather_Conditions          object\n",
       "Vehicle_Type                object\n",
       "dtype: object"
      ]
     },
     "execution_count": 100,
     "metadata": {},
     "output_type": "execute_result"
    }
   ],
   "source": [
    "accident.dtypes"
   ]
  },
  {
   "cell_type": "code",
   "execution_count": 101,
   "id": "4120def8-f252-4008-8d45-3e20949ed2b5",
   "metadata": {},
   "outputs": [
    {
     "data": {
      "text/html": [
       "<div>\n",
       "<style scoped>\n",
       "    .dataframe tbody tr th:only-of-type {\n",
       "        vertical-align: middle;\n",
       "    }\n",
       "\n",
       "    .dataframe tbody tr th {\n",
       "        vertical-align: top;\n",
       "    }\n",
       "\n",
       "    .dataframe thead th {\n",
       "        text-align: right;\n",
       "    }\n",
       "</style>\n",
       "<table border=\"1\" class=\"dataframe\">\n",
       "  <thead>\n",
       "    <tr style=\"text-align: right;\">\n",
       "      <th></th>\n",
       "      <th>Latitude</th>\n",
       "      <th>Longitude</th>\n",
       "      <th>Number_of_Casualties</th>\n",
       "      <th>Number_of_Vehicles</th>\n",
       "    </tr>\n",
       "  </thead>\n",
       "  <tbody>\n",
       "    <tr>\n",
       "      <th>count</th>\n",
       "      <td>660654.000000</td>\n",
       "      <td>660653.000000</td>\n",
       "      <td>660679.000000</td>\n",
       "      <td>660679.000000</td>\n",
       "    </tr>\n",
       "    <tr>\n",
       "      <th>mean</th>\n",
       "      <td>52.553866</td>\n",
       "      <td>-1.431210</td>\n",
       "      <td>1.357040</td>\n",
       "      <td>1.831255</td>\n",
       "    </tr>\n",
       "    <tr>\n",
       "      <th>std</th>\n",
       "      <td>1.406922</td>\n",
       "      <td>1.383330</td>\n",
       "      <td>0.824847</td>\n",
       "      <td>0.715269</td>\n",
       "    </tr>\n",
       "    <tr>\n",
       "      <th>min</th>\n",
       "      <td>49.914430</td>\n",
       "      <td>-7.516225</td>\n",
       "      <td>1.000000</td>\n",
       "      <td>1.000000</td>\n",
       "    </tr>\n",
       "    <tr>\n",
       "      <th>25%</th>\n",
       "      <td>51.490690</td>\n",
       "      <td>-2.332291</td>\n",
       "      <td>1.000000</td>\n",
       "      <td>1.000000</td>\n",
       "    </tr>\n",
       "    <tr>\n",
       "      <th>50%</th>\n",
       "      <td>52.315641</td>\n",
       "      <td>-1.411667</td>\n",
       "      <td>1.000000</td>\n",
       "      <td>2.000000</td>\n",
       "    </tr>\n",
       "    <tr>\n",
       "      <th>75%</th>\n",
       "      <td>53.453452</td>\n",
       "      <td>-0.232869</td>\n",
       "      <td>1.000000</td>\n",
       "      <td>2.000000</td>\n",
       "    </tr>\n",
       "    <tr>\n",
       "      <th>max</th>\n",
       "      <td>60.757544</td>\n",
       "      <td>1.762010</td>\n",
       "      <td>68.000000</td>\n",
       "      <td>32.000000</td>\n",
       "    </tr>\n",
       "  </tbody>\n",
       "</table>\n",
       "</div>"
      ],
      "text/plain": [
       "            Latitude      Longitude  Number_of_Casualties  Number_of_Vehicles\n",
       "count  660654.000000  660653.000000         660679.000000       660679.000000\n",
       "mean       52.553866      -1.431210              1.357040            1.831255\n",
       "std         1.406922       1.383330              0.824847            0.715269\n",
       "min        49.914430      -7.516225              1.000000            1.000000\n",
       "25%        51.490690      -2.332291              1.000000            1.000000\n",
       "50%        52.315641      -1.411667              1.000000            2.000000\n",
       "75%        53.453452      -0.232869              1.000000            2.000000\n",
       "max        60.757544       1.762010             68.000000           32.000000"
      ]
     },
     "execution_count": 101,
     "metadata": {},
     "output_type": "execute_result"
    }
   ],
   "source": [
    "accident.describe()"
   ]
  },
  {
   "cell_type": "code",
   "execution_count": 102,
   "id": "a71a10fc-eb5e-4e5e-8091-1263f0fc1472",
   "metadata": {},
   "outputs": [],
   "source": [
    "accident['Accident_Severity'] = accident['Accident_Severity'].astype('category')"
   ]
  },
  {
   "cell_type": "code",
   "execution_count": 103,
   "id": "b84562bf-aca1-4dc8-8ef3-b528de98cf82",
   "metadata": {},
   "outputs": [
    {
     "data": {
      "text/plain": [
       "Accident_Severity\n",
       "Slight     563801\n",
       "Serious     88217\n",
       "Fatal        8661\n",
       "Name: count, dtype: int64"
      ]
     },
     "execution_count": 103,
     "metadata": {},
     "output_type": "execute_result"
    }
   ],
   "source": [
    "accident['Accident_Severity'].value_counts()"
   ]
  },
  {
   "cell_type": "code",
   "execution_count": 104,
   "id": "723272f0-7c8d-4007-9fe7-32a1b403fc84",
   "metadata": {},
   "outputs": [
    {
     "data": {
      "text/plain": [
       "Index                        object\n",
       "Accident_Severity          category\n",
       "Accident Date                object\n",
       "Latitude                    float64\n",
       "Light_Conditions             object\n",
       "District Area                object\n",
       "Longitude                   float64\n",
       "Number_of_Casualties          int64\n",
       "Number_of_Vehicles            int64\n",
       "Road_Surface_Conditions      object\n",
       "Road_Type                    object\n",
       "Urban_or_Rural_Area          object\n",
       "Weather_Conditions           object\n",
       "Vehicle_Type                 object\n",
       "dtype: object"
      ]
     },
     "execution_count": 104,
     "metadata": {},
     "output_type": "execute_result"
    }
   ],
   "source": [
    "accident.dtypes"
   ]
  },
  {
   "cell_type": "markdown",
   "id": "8192591e-81a1-4852-91e2-e737fdf5572e",
   "metadata": {},
   "source": [
    "<h1>Data Cleansing</h1>\n",
    "<h3>Filling out null values</h3>"
   ]
  },
  {
   "cell_type": "code",
   "execution_count": 105,
   "id": "01e7522b-be42-4920-8ffb-eb1620428009",
   "metadata": {},
   "outputs": [
    {
     "data": {
      "text/plain": [
       "Index                          0\n",
       "Accident_Severity              0\n",
       "Accident Date                  0\n",
       "Latitude                      25\n",
       "Light_Conditions               0\n",
       "District Area                  0\n",
       "Longitude                     26\n",
       "Number_of_Casualties           0\n",
       "Number_of_Vehicles             0\n",
       "Road_Surface_Conditions      726\n",
       "Road_Type                   4520\n",
       "Urban_or_Rural_Area           15\n",
       "Weather_Conditions         14128\n",
       "Vehicle_Type                   0\n",
       "dtype: int64"
      ]
     },
     "execution_count": 105,
     "metadata": {},
     "output_type": "execute_result"
    }
   ],
   "source": [
    "accident.isnull().sum()"
   ]
  },
  {
   "cell_type": "code",
   "execution_count": 106,
   "id": "99135295-df4d-4944-86db-58d7a055b7ff",
   "metadata": {},
   "outputs": [],
   "source": [
    "accident['Latitude'] = accident['Latitude'].fillna(accident['Latitude'].mode()[0])\n",
    "accident['Longitude'] = accident['Longitude'].fillna(accident['Longitude'].mode()[0])  # Corrected here\n",
    "accident['Road_Surface_Conditions'] = accident['Road_Surface_Conditions'].fillna('unknown surface condition')\n",
    "accident['Road_Type'] = accident['Road_Type'].fillna('unaccounted')\n",
    "accident['Weather_Conditions'] = accident['Weather_Conditions'].fillna('unaccounted')\n",
    "accident['Urban_or_Rural_Area'] = accident['Urban_or_Rural_Area'].fillna(accident['Urban_or_Rural_Area'].mode()[0])"
   ]
  },
  {
   "cell_type": "code",
   "execution_count": 107,
   "id": "900b00f3-68d4-4719-a747-27f1920fb80b",
   "metadata": {},
   "outputs": [
    {
     "data": {
      "text/plain": [
       "Index                      0\n",
       "Accident_Severity          0\n",
       "Accident Date              0\n",
       "Latitude                   0\n",
       "Light_Conditions           0\n",
       "District Area              0\n",
       "Longitude                  0\n",
       "Number_of_Casualties       0\n",
       "Number_of_Vehicles         0\n",
       "Road_Surface_Conditions    0\n",
       "Road_Type                  0\n",
       "Urban_or_Rural_Area        0\n",
       "Weather_Conditions         0\n",
       "Vehicle_Type               0\n",
       "dtype: int64"
      ]
     },
     "execution_count": 107,
     "metadata": {},
     "output_type": "execute_result"
    }
   ],
   "source": [
    "accident.isnull().sum()"
   ]
  },
  {
   "cell_type": "markdown",
   "id": "6a21aa3b-1834-47c5-862a-0cccdbc4f6ec",
   "metadata": {},
   "source": [
    "<h1>Categorical Data Fields</h1>"
   ]
  },
  {
   "cell_type": "code",
   "execution_count": 108,
   "id": "a2beddbb-14d8-4b5b-a09c-3582b7edd600",
   "metadata": {},
   "outputs": [],
   "source": [
    "accident['Accident_Severity'] = accident['Accident_Severity'].astype('category')\n",
    "accident['Latitude'] = accident['Latitude'].astype('category')\n",
    "accident['Light_Conditions'] = accident['Light_Conditions'].astype('category')\n",
    "accident['District Area'] = accident['District Area'].astype('category')\n",
    "accident['Longitude'] = accident['Longitude'].astype('category')\n",
    "#accident['Number_of_Casualties'] = accident['Number_of_Casualties'].astype('int')\n",
    "#accident['Number_of_Vehicles'] = accident['Number_of_Vehicles'].astype('int')\n",
    "accident['Road_Surface_Conditions'] = accident['Road_Surface_Conditions'].astype('category')\n",
    "accident['Road_Type'] = accident['Road_Type'].astype('category')\n",
    "accident['Urban_or_Rural_Area'] = accident['Urban_or_Rural_Area'].astype('category')\n",
    "accident['Weather_Conditions'] = accident['Weather_Conditions'].astype('category')\n",
    "accident['Vehicle_Type'] = accident['Vehicle_Type'].astype('category')"
   ]
  },
  {
   "cell_type": "code",
   "execution_count": 109,
   "id": "a6536807-eece-42f8-abba-20c8c2cc8fc0",
   "metadata": {},
   "outputs": [
    {
     "data": {
      "text/plain": [
       "Index                        object\n",
       "Accident_Severity          category\n",
       "Accident Date                object\n",
       "Latitude                   category\n",
       "Light_Conditions           category\n",
       "District Area              category\n",
       "Longitude                  category\n",
       "Number_of_Casualties          int64\n",
       "Number_of_Vehicles            int64\n",
       "Road_Surface_Conditions    category\n",
       "Road_Type                  category\n",
       "Urban_or_Rural_Area        category\n",
       "Weather_Conditions         category\n",
       "Vehicle_Type               category\n",
       "dtype: object"
      ]
     },
     "execution_count": 109,
     "metadata": {},
     "output_type": "execute_result"
    }
   ],
   "source": [
    "accident.dtypes"
   ]
  },
  {
   "cell_type": "markdown",
   "id": "fee8c7b1-fecc-4ac8-80c2-c4432c1a7cf8",
   "metadata": {},
   "source": [
    "<h1>Converting object to DateTime Data Type</h1>"
   ]
  },
  {
   "cell_type": "code",
   "execution_count": 110,
   "id": "1f1fe90b-bd5d-4e5c-8add-2decba24a944",
   "metadata": {
    "scrolled": true
   },
   "outputs": [],
   "source": [
    "accident['Accident Date'] = accident['Accident Date'].astype('str')\n",
    "#remove any space\n",
    "accident['Accident Date'] = accident['Accident Date'].str.strip()\n",
    "#convert everything from / (slash) to - (dash)\n",
    "accident['Accident Date'] = accident['Accident Date'].str.replace('/', '-')"
   ]
  },
  {
   "cell_type": "code",
   "execution_count": 111,
   "id": "19a738e9-9185-4aad-88d3-eff9346c584d",
   "metadata": {},
   "outputs": [],
   "source": [
    "accident['Accident Date'] = pd.to_datetime(accident['Accident Date'], dayfirst = True, errors = 'coerce')"
   ]
  },
  {
   "cell_type": "markdown",
   "id": "36929001-f630-4fc1-912f-6e4129e00b95",
   "metadata": {},
   "source": [
    "<h1>Adjusting Data Types</h1>"
   ]
  },
  {
   "cell_type": "code",
   "execution_count": 112,
   "id": "41de5ef0-4fdd-4233-9f4a-1ac399c4fb61",
   "metadata": {},
   "outputs": [
    {
     "data": {
      "text/plain": [
       "Index                              object\n",
       "Accident_Severity                category\n",
       "Accident Date              datetime64[ns]\n",
       "Latitude                         category\n",
       "Light_Conditions                 category\n",
       "District Area                    category\n",
       "Longitude                        category\n",
       "Number_of_Casualties                int64\n",
       "Number_of_Vehicles                  int64\n",
       "Road_Surface_Conditions          category\n",
       "Road_Type                        category\n",
       "Urban_or_Rural_Area              category\n",
       "Weather_Conditions               category\n",
       "Vehicle_Type                     category\n",
       "dtype: object"
      ]
     },
     "execution_count": 112,
     "metadata": {},
     "output_type": "execute_result"
    }
   ],
   "source": [
    "#accident['Accident Date']\n",
    "accident.dtypes"
   ]
  },
  {
   "cell_type": "markdown",
   "id": "2249d7a4-53cb-4d2b-a997-ccc707be1644",
   "metadata": {},
   "source": [
    "<h1>Extracting date information using pandas date time</h1>"
   ]
  },
  {
   "cell_type": "code",
   "execution_count": 113,
   "id": "b42ce56f-e60a-4f22-ab66-d09e3a041140",
   "metadata": {},
   "outputs": [],
   "source": [
    "accident['Year'] = accident['Accident Date'].dt.year\n",
    "accident['Month'] = accident['Accident Date'].dt.month\n",
    "accident['Day'] = accident['Accident Date'].dt.day\n",
    "accident['DayofWeek'] = accident['Accident Date'].dt.dayofweek #Monday=0, Sunday=6"
   ]
  },
  {
   "cell_type": "code",
   "execution_count": 114,
   "id": "e9d77219-587b-47e9-b79d-0c0001482542",
   "metadata": {},
   "outputs": [
    {
     "data": {
      "text/plain": [
       "Index                      0\n",
       "Accident_Severity          0\n",
       "Accident Date              0\n",
       "Latitude                   0\n",
       "Light_Conditions           0\n",
       "District Area              0\n",
       "Longitude                  0\n",
       "Number_of_Casualties       0\n",
       "Number_of_Vehicles         0\n",
       "Road_Surface_Conditions    0\n",
       "Road_Type                  0\n",
       "Urban_or_Rural_Area        0\n",
       "Weather_Conditions         0\n",
       "Vehicle_Type               0\n",
       "Year                       0\n",
       "Month                      0\n",
       "Day                        0\n",
       "DayofWeek                  0\n",
       "dtype: int64"
      ]
     },
     "execution_count": 114,
     "metadata": {},
     "output_type": "execute_result"
    }
   ],
   "source": [
    "accident.isnull().sum()"
   ]
  },
  {
   "cell_type": "markdown",
   "id": "4ca3646a-b2be-4808-9966-0d1c3bf9946e",
   "metadata": {},
   "source": [
    "<h1>Data Analytics</h1>\n",
    "<h3>Analyzing Each from the Data set</h3>"
   ]
  },
  {
   "cell_type": "markdown",
   "id": "d4af809b-cee5-4556-90c1-a6ce328a02fd",
   "metadata": {},
   "source": [
    "<h1>UniVariate</h1>"
   ]
  },
  {
   "cell_type": "code",
   "execution_count": 115,
   "id": "1259ea01-d49c-4f48-9c54-76b672b81774",
   "metadata": {},
   "outputs": [],
   "source": [
    "df_2019 = accident[accident['Year'] == 2019]"
   ]
  },
  {
   "cell_type": "markdown",
   "id": "d15b8903-faa6-43bc-a1ef-e7c82547f3f3",
   "metadata": {},
   "source": [
    "<h1>Univariate Analysis from Year 2019</h1>\n",
    "<h1>Question No.1: How many incidents happened under light conditions?</h1>"
   ]
  },
  {
   "cell_type": "code",
   "execution_count": 116,
   "id": "7c185700-c6de-4a2f-be88-2d92d9c4af67",
   "metadata": {},
   "outputs": [
    {
     "name": "stdout",
     "output_type": "stream",
     "text": [
      "total number of accident in 2019 is 182115\n"
     ]
    },
    {
     "data": {
      "text/plain": [
       "Light_Conditions\n",
       "Daylight                       133042\n",
       "Darkness - lights lit           35769\n",
       "Darkness - no lighting          10842\n",
       "Darkness - lighting unknown      1768\n",
       "Darkness - lights unlit           694\n",
       "Name: count, dtype: int64"
      ]
     },
     "execution_count": 116,
     "metadata": {},
     "output_type": "execute_result"
    }
   ],
   "source": [
    "print(f\"total number of accident in 2019 is {df_2019['Light_Conditions'].value_counts().sum()}\")\n",
    "df_2019['Light_Conditions'].value_counts()"
   ]
  },
  {
   "cell_type": "markdown",
   "id": "82cfc3ee-479d-4adc-90f3-2799a9eec1ec",
   "metadata": {},
   "source": [
    "<h3>Insight No.1</h3>\n",
    "<h4>Contrary to popular belief the most accident happens in darkness or at night time, majority of the accident happens on broad daylight. About 73.05% of the total accident in 2019 happened during Daylight.</h4>"
   ]
  },
  {
   "cell_type": "markdown",
   "id": "11411aab-912e-4a9a-b058-4ad0520c359c",
   "metadata": {},
   "source": [
    "<h1>Question No.2: What is the total number of accidents in 2019 and 2020?</h1>"
   ]
  },
  {
   "cell_type": "code",
   "execution_count": 117,
   "id": "27be7fed-3949-4136-bd42-dc3a34268895",
   "metadata": {},
   "outputs": [
    {
     "data": {
      "text/plain": [
       "352706"
      ]
     },
     "execution_count": 117,
     "metadata": {},
     "output_type": "execute_result"
    }
   ],
   "source": [
    "total_accidents_2019 = accident[accident['Accident Date'].dt.year == 2019]['Accident Date'].count()\n",
    "total_accidents_2020 = accident[accident['Accident Date'].dt.year == 2020]['Accident Date'].count()\n",
    "total_accidents = total_accidents_2019 + total_accidents_2020\n",
    "total_accidents"
   ]
  },
  {
   "cell_type": "markdown",
   "id": "ea89ed38-2c4a-4bd0-aa42-212db84761f3",
   "metadata": {},
   "source": [
    "<h3>Insight No.2</h3>\n",
    "<h4>There are 352,706 accidents recorded across 2019 and 2020.</h4>"
   ]
  },
  {
   "cell_type": "markdown",
   "id": "c2b720f3-1b0d-4ec2-b37e-609fe2407550",
   "metadata": {},
   "source": [
    "<h1>Question No.3: What is the average number of accidents per month?</h1>"
   ]
  },
  {
   "cell_type": "code",
   "execution_count": 118,
   "id": "7ff89457-a922-4679-9995-b9ea8b2464e5",
   "metadata": {},
   "outputs": [
    {
     "data": {
      "text/plain": [
       "55056.583333333336"
      ]
     },
     "execution_count": 118,
     "metadata": {},
     "output_type": "execute_result"
    }
   ],
   "source": [
    "average_accidents_per_month = accident['Accident Date'].groupby(accident['Accident Date'].dt.month).count().mean()\n",
    "average_accidents_per_month"
   ]
  },
  {
   "cell_type": "markdown",
   "id": "5258f3e8-175c-44d1-8e14-9ca13c2a6691",
   "metadata": {},
   "source": [
    "<h3>Insight No.3</h3>\n",
    "<h4>The average number of accidents per month is 55,056.58.</h4>"
   ]
  },
  {
   "cell_type": "markdown",
   "id": "b33beae7-642c-4bc3-a302-039f97cf8b02",
   "metadata": {},
   "source": [
    "<h1>Question No.4: What is the most frequent accident severity?</h1>"
   ]
  },
  {
   "cell_type": "code",
   "execution_count": 119,
   "id": "7cc778c2-1edc-4cc0-8ade-969fa9c263d2",
   "metadata": {},
   "outputs": [
    {
     "data": {
      "text/plain": [
       "Accident_Severity\n",
       "Slight     563801\n",
       "Serious     88217\n",
       "Fatal        8661\n",
       "Name: count, dtype: int64"
      ]
     },
     "execution_count": 119,
     "metadata": {},
     "output_type": "execute_result"
    }
   ],
   "source": [
    "severity_counts = accident['Accident_Severity'].value_counts()\n",
    "severity_counts"
   ]
  },
  {
   "cell_type": "markdown",
   "id": "44afa36c-c5ab-4c06-97dd-e4389204280d",
   "metadata": {},
   "source": [
    "<h3>Insight No.4</h3>\n",
    "<h4>Most accidents are classified as Slight (563,801 accidents), followed by Serious (88,217 accidents) and Fatal (8,661 accidents).</h4>"
   ]
  },
  {
   "cell_type": "markdown",
   "id": "ea0a33ce-ca4d-4e70-831c-58c3354f4128",
   "metadata": {},
   "source": [
    "<h1>Question No.5: What is the most common light condition during accidents?</h1>"
   ]
  },
  {
   "cell_type": "code",
   "execution_count": 120,
   "id": "6e4b61a9-70bf-4add-9127-999f310c5eb1",
   "metadata": {},
   "outputs": [
    {
     "data": {
      "text/plain": [
       "Light_Conditions\n",
       "Daylight                       484880\n",
       "Darkness - lights lit          129335\n",
       "Darkness - no lighting          37437\n",
       "Darkness - lighting unknown      6484\n",
       "Darkness - lights unlit          2543\n",
       "Name: count, dtype: int64"
      ]
     },
     "execution_count": 120,
     "metadata": {},
     "output_type": "execute_result"
    }
   ],
   "source": [
    "most_common_light_condition = accident['Light_Conditions'].value_counts()\n",
    "most_common_light_condition"
   ]
  },
  {
   "cell_type": "markdown",
   "id": "a20a021d-af45-47f8-a43f-8ba844ca8933",
   "metadata": {},
   "source": [
    "<h3>Insight No.5</h3>\n",
    "<h4>The highest number of accidents happened in Daylight, with 484,880 recorded incidents. Meanwhile, 129,335 accidents occurred in Darkness with street lights lit.</h4>"
   ]
  },
  {
   "cell_type": "markdown",
   "id": "fa2a6ec8-dc39-4e49-82bf-25342db56f41",
   "metadata": {},
   "source": [
    "<h1>Question No.6: What is the most frequent weather condition during accidents?</h1>"
   ]
  },
  {
   "cell_type": "code",
   "execution_count": 121,
   "id": "a3bb1407-23f4-4a58-a720-684f7eca0507",
   "metadata": {},
   "outputs": [
    {
     "data": {
      "text/plain": [
       "Weather_Conditions\n",
       "Fine no high winds       520885\n",
       "Raining no high winds     79696\n",
       "Other                     17150\n",
       "unaccounted               14128\n",
       "Raining + high winds       9615\n",
       "Fine + high winds          8554\n",
       "Snowing no high winds      6238\n",
       "Fog or mist                3528\n",
       "Snowing + high winds        885\n",
       "Name: count, dtype: int64"
      ]
     },
     "execution_count": 121,
     "metadata": {},
     "output_type": "execute_result"
    }
   ],
   "source": [
    "most_frequent_weather = accident['Weather_Conditions'].value_counts()\n",
    "most_frequent_weather"
   ]
  },
  {
   "cell_type": "markdown",
   "id": "75e38e5c-bbfb-487f-8e3e-7dcb1de6d097",
   "metadata": {},
   "source": [
    "<h3>Insight No.6</h3>\n",
    "<h4>The most common weather condition during accidents is \"Fine no high winds\" with 520,885 recorded incidents. </h4>"
   ]
  },
  {
   "cell_type": "markdown",
   "id": "6793851f-c07b-4bbf-9be5-7e26b4ec9a3a",
   "metadata": {},
   "source": [
    "<h1>Question No.7: What is the average number of vehicles involved in each accident?</h1>"
   ]
  },
  {
   "cell_type": "code",
   "execution_count": 122,
   "id": "4a7e009f-b518-4ac2-8fcd-57e80f294d07",
   "metadata": {},
   "outputs": [
    {
     "data": {
      "text/plain": [
       "1.8312554205597575"
      ]
     },
     "execution_count": 122,
     "metadata": {},
     "output_type": "execute_result"
    }
   ],
   "source": [
    "average_vehicles = accident['Number_of_Vehicles'].mean()\n",
    "average_vehicles"
   ]
  },
  {
   "cell_type": "markdown",
   "id": "295dae9f-aad3-448a-b980-cca5d4bfab8b",
   "metadata": {},
   "source": [
    "<h3>Insight No.7</h3>\n",
    "<h4>Each accident involves an average of 1.83 vehicles.</h4>"
   ]
  },
  {
   "cell_type": "markdown",
   "id": "a6e53a9a-52a9-4922-86e7-2703a1027a65",
   "metadata": {},
   "source": [
    "<h1>Question No.8: What is the most common road surface condition where accidents occurred?</h1>"
   ]
  },
  {
   "cell_type": "code",
   "execution_count": 123,
   "id": "ac51001b-cd8a-4e58-9c02-e1d967a481d1",
   "metadata": {},
   "outputs": [
    {
     "data": {
      "text/plain": [
       "Road_Surface_Conditions\n",
       "Dry                          447821\n",
       "Wet or damp                  186708\n",
       "Frost or ice                  18517\n",
       "Snow                           5890\n",
       "Flood over 3cm. deep           1017\n",
       "unknown surface condition       726\n",
       "Name: count, dtype: int64"
      ]
     },
     "execution_count": 123,
     "metadata": {},
     "output_type": "execute_result"
    }
   ],
   "source": [
    "most_common_surface = accident['Road_Surface_Conditions'].value_counts()\n",
    "most_common_surface"
   ]
  },
  {
   "cell_type": "markdown",
   "id": "c17f1692-a376-45c8-ad85-1aba0b49865c",
   "metadata": {},
   "source": [
    "<h3>Insight No.8</h3>\n",
    "<h4>The majority of accidents occurred on dry roads, with 447,821 recorded incidents.</h4>"
   ]
  },
  {
   "cell_type": "markdown",
   "id": "97d1b9f2-3203-4086-9ee1-8fef4172e751",
   "metadata": {},
   "source": [
    "<h1>Question No.9: Which day of the week had the highest number of accidents?</h1>"
   ]
  },
  {
   "cell_type": "code",
   "execution_count": 124,
   "id": "89d0d4bc-bfe5-4a0b-b029-9c2997d04450",
   "metadata": {},
   "outputs": [
    {
     "data": {
      "text/plain": [
       "DayofWeek\n",
       "5    107178\n",
       "2     99558\n",
       "3     99511\n",
       "4     97900\n",
       "1     94550\n",
       "6     89302\n",
       "0     72680\n",
       "Name: count, dtype: int64"
      ]
     },
     "execution_count": 124,
     "metadata": {},
     "output_type": "execute_result"
    }
   ],
   "source": [
    "day_accidents = accident['DayofWeek'].value_counts()\n",
    "day_accidents"
   ]
  },
  {
   "cell_type": "markdown",
   "id": "78cd781a-4f5e-4436-b466-a04c1b1a1c68",
   "metadata": {},
   "source": [
    "<h3>Insight No.9</h3>\n",
    "<h4>Friday (Day 5) recorded the highest number of accidents, with 107,178 incidents.</h4>"
   ]
  },
  {
   "cell_type": "markdown",
   "id": "6c7dccb4-ce48-42f6-92ba-536f62c280c1",
   "metadata": {},
   "source": [
    "<h1>Question No.10: Which road type experienced the most accidents?</h1>"
   ]
  },
  {
   "cell_type": "code",
   "execution_count": 125,
   "id": "d4c8e314-b151-4ec6-a9d6-d9874002c66f",
   "metadata": {},
   "outputs": [
    {
     "data": {
      "text/plain": [
       "Road_Type\n",
       "Single carriageway    492143\n",
       "Dual carriageway       99424\n",
       "Roundabout             43992\n",
       "One way street         13559\n",
       "Slip road               7041\n",
       "unaccounted             4520\n",
       "Name: count, dtype: int64"
      ]
     },
     "execution_count": 125,
     "metadata": {},
     "output_type": "execute_result"
    }
   ],
   "source": [
    "road_type_counts = accident['Road_Type'].value_counts()\n",
    "road_type_counts"
   ]
  },
  {
   "cell_type": "markdown",
   "id": "2f809323-a677-42dc-9025-a057d11072b5",
   "metadata": {},
   "source": [
    "<h3>Insight No.10</h3>\n",
    "<h4>The most accidents occurred on Single Carriageway roads, with 492,143 recorded incidents. </h4>"
   ]
  },
  {
   "cell_type": "markdown",
   "id": "d5b1020a-df27-4493-80c9-bb5baaa0a3cb",
   "metadata": {},
   "source": [
    "<h1>BiVariate</h1>"
   ]
  },
  {
   "cell_type": "markdown",
   "id": "480526b1-aecb-4436-a26a-f55c96fa301d",
   "metadata": {},
   "source": [
    "<h1>Question No.11: How does weather affect the number of accidents?</h1>"
   ]
  },
  {
   "cell_type": "code",
   "execution_count": 126,
   "id": "ad1dbbf2-976f-486c-ba6c-1d471b671d1b",
   "metadata": {},
   "outputs": [
    {
     "data": {
      "text/plain": [
       "Weather_Conditions\n",
       "Fine no high winds       520885\n",
       "Raining no high winds     79696\n",
       "Other                     17150\n",
       "unaccounted               14128\n",
       "Raining + high winds       9615\n",
       "Fine + high winds          8554\n",
       "Snowing no high winds      6238\n",
       "Fog or mist                3528\n",
       "Snowing + high winds        885\n",
       "Name: Accident Date, dtype: int64"
      ]
     },
     "execution_count": 126,
     "metadata": {},
     "output_type": "execute_result"
    }
   ],
   "source": [
    "weather_accidents = accident.groupby('Weather_Conditions')['Accident Date'].count().sort_values(ascending=False)\n",
    "weather_accidents"
   ]
  },
  {
   "cell_type": "markdown",
   "id": "2f8d12b5-cb43-48a9-9975-553a65dfab0b",
   "metadata": {},
   "source": [
    "<h3>Insight No.11</h3>\n",
    "<h4>The highest number of accidents occurred under fine weather with no high winds (520,885 cases), likely due to more vehicles being on the road. However, rainy conditions (79,696 cases) and fog/mist (3,528 cases) significantly increased accident rates compared to normal weather.</h4>"
   ]
  },
  {
   "cell_type": "markdown",
   "id": "c8433a3f-8110-4cb9-bb4b-1ef85cfe0e73",
   "metadata": {},
   "source": [
    "<h1>Question No.12: What is the average number of casualties on different road surface conditions?</h1>"
   ]
  },
  {
   "cell_type": "code",
   "execution_count": 127,
   "id": "c985c970-95b9-4bbe-9954-67e30daa4c89",
   "metadata": {},
   "outputs": [
    {
     "data": {
      "text/plain": [
       "Road_Surface_Conditions\n",
       "Dry                          1.334736\n",
       "Flood over 3cm. deep         1.495575\n",
       "Frost or ice                 1.348815\n",
       "Snow                         1.359593\n",
       "Wet or damp                  1.411064\n",
       "unknown surface condition    1.216253\n",
       "Name: Number_of_Casualties, dtype: float64"
      ]
     },
     "execution_count": 127,
     "metadata": {},
     "output_type": "execute_result"
    }
   ],
   "source": [
    "avg_casualties_per_surface = accident.groupby('Road_Surface_Conditions')['Number_of_Casualties'].mean()\n",
    "avg_casualties_per_surface"
   ]
  },
  {
   "cell_type": "markdown",
   "id": "255c08a1-432c-4571-a1e2-2b62c35939f9",
   "metadata": {},
   "source": [
    "<h3>Insight No.12</h3>\n",
    "<h4>It shows that roads with flooding over 3cm deep have the highest average number of casualties at 1.50 per accident, followed by wet or damp roads at 1.41 casualties per accident. Roads covered in snow (1.36), frost or ice (1.35), and dry conditions (1.33) also present risks. While, the lowest casualty rate is observed in unknown surface conditions (1.22 casualties per accident).</h4>"
   ]
  },
  {
   "cell_type": "markdown",
   "id": "7e45a548-c4c8-485a-8a97-7e499392030d",
   "metadata": {},
   "source": [
    "<h1>Question No.13: How do weather conditions relate to light conditions in road accidents?</h1>"
   ]
  },
  {
   "cell_type": "code",
   "execution_count": 128,
   "id": "62c2555c-556b-407c-b85e-5d1cd52fd164",
   "metadata": {},
   "outputs": [
    {
     "data": {
      "text/plain": [
       "Weather_Conditions     Light_Conditions           \n",
       "Fine + high winds      Darkness - lighting unknown        59\n",
       "                       Darkness - lights lit            1852\n",
       "                       Darkness - lights unlit            51\n",
       "                       Darkness - no lighting            796\n",
       "                       Daylight                         5796\n",
       "Fine no high winds     Darkness - lighting unknown      3683\n",
       "                       Darkness - lights lit           91951\n",
       "                       Darkness - lights unlit          1700\n",
       "                       Darkness - no lighting          24867\n",
       "                       Daylight                       398684\n",
       "Fog or mist            Darkness - lighting unknown        65\n",
       "                       Darkness - lights lit             921\n",
       "                       Darkness - lights unlit            37\n",
       "                       Darkness - no lighting            862\n",
       "                       Daylight                         1643\n",
       "Other                  Darkness - lighting unknown       186\n",
       "                       Darkness - lights lit            4803\n",
       "                       Darkness - lights unlit           143\n",
       "                       Darkness - no lighting           1915\n",
       "                       Daylight                        10103\n",
       "Raining + high winds   Darkness - lighting unknown       111\n",
       "                       Darkness - lights lit            3066\n",
       "                       Darkness - lights unlit            73\n",
       "                       Darkness - no lighting           1423\n",
       "                       Daylight                         4942\n",
       "Raining no high winds  Darkness - lighting unknown       621\n",
       "                       Darkness - lights lit           22666\n",
       "                       Darkness - lights unlit           459\n",
       "                       Darkness - no lighting           6208\n",
       "                       Daylight                        49742\n",
       "Snowing + high winds   Darkness - lighting unknown        15\n",
       "                       Darkness - lights lit             241\n",
       "                       Darkness - lights unlit             5\n",
       "                       Darkness - no lighting            171\n",
       "                       Daylight                          453\n",
       "Snowing no high winds  Darkness - lighting unknown        94\n",
       "                       Darkness - lights lit            1828\n",
       "                       Darkness - lights unlit            30\n",
       "                       Darkness - no lighting            811\n",
       "                       Daylight                         3475\n",
       "unaccounted            Darkness - lighting unknown      1650\n",
       "                       Darkness - lights lit            2007\n",
       "                       Darkness - lights unlit            45\n",
       "                       Darkness - no lighting            384\n",
       "                       Daylight                        10042\n",
       "Name: Accident Date, dtype: int64"
      ]
     },
     "execution_count": 128,
     "metadata": {},
     "output_type": "execute_result"
    }
   ],
   "source": [
    "weather_light_condition = accident.groupby(['Weather_Conditions', 'Light_Conditions'])['Accident Date'].count()\n",
    "weather_light_condition"
   ]
  },
  {
   "cell_type": "markdown",
   "id": "0eee2c38-7ac5-4c29-8d4e-d7e2e0d0a3f3",
   "metadata": {},
   "source": [
    "<h3>Insight No.13</h3>\n",
    "<h4>Most accidents occur in clear weather during daylight, but foggy and rainy conditions increase accidents in low-light conditions. </h4>"
   ]
  },
  {
   "cell_type": "markdown",
   "id": "3bc4c331-2725-436d-8783-6c1d28169231",
   "metadata": {},
   "source": [
    "<h1>MultiVariate</h1>"
   ]
  },
  {
   "cell_type": "code",
   "execution_count": 129,
   "id": "fc1d643b-6d7b-47b2-ae81-e68549417fec",
   "metadata": {},
   "outputs": [],
   "source": [
    "#Accident Per Year\n",
    "accidents_per_year = accident['Year'].value_counts().sort_index()\n",
    "\n",
    "#Float might be caused of values without year\n",
    "# accident = accident['Year'].dropna()\n",
    "# Accident per month\n",
    "accidents_per_month = accident['Month'].value_counts().sort_index()"
   ]
  },
  {
   "cell_type": "code",
   "execution_count": 130,
   "id": "9242ef3a-60a9-4406-9681-949342bec301",
   "metadata": {},
   "outputs": [
    {
     "data": {
      "text/plain": [
       "Year\n",
       "2019    182115\n",
       "2020    170591\n",
       "2021    163554\n",
       "2022    144419\n",
       "Name: count, dtype: int64"
      ]
     },
     "execution_count": 130,
     "metadata": {},
     "output_type": "execute_result"
    }
   ],
   "source": [
    "accidents_per_year"
   ]
  },
  {
   "cell_type": "code",
   "execution_count": 131,
   "id": "d6d4a8ae-d8d5-4e8b-9625-726d284a6136",
   "metadata": {},
   "outputs": [
    {
     "data": {
      "text/plain": [
       "Month\n",
       "1     52872\n",
       "2     49491\n",
       "3     54086\n",
       "4     51744\n",
       "5     56352\n",
       "6     56481\n",
       "7     57445\n",
       "8     53913\n",
       "9     56455\n",
       "10    59580\n",
       "11    60424\n",
       "12    51836\n",
       "Name: count, dtype: int64"
      ]
     },
     "execution_count": 131,
     "metadata": {},
     "output_type": "execute_result"
    }
   ],
   "source": [
    "accidents_per_month"
   ]
  },
  {
   "cell_type": "markdown",
   "id": "a2234e70-cd94-4adf-8acc-8d42ad23dfe9",
   "metadata": {},
   "source": [
    "<h1>Question No.14: How does bad weather combined with poor road surface conditions affect accident risks?</h1>"
   ]
  },
  {
   "cell_type": "code",
   "execution_count": 132,
   "id": "bcd21e0d-5bc2-4feb-9a75-82e462005758",
   "metadata": {},
   "outputs": [
    {
     "data": {
      "text/plain": [
       "211115"
      ]
     },
     "execution_count": 132,
     "metadata": {},
     "output_type": "execute_result"
    }
   ],
   "source": [
    "bad_weather_accidents = accident[(accident['Weather_Conditions'] == 'Rain') | \n",
    "                           (accident['Weather_Conditions'] == 'Snow') | \n",
    "                           (accident['Weather_Conditions'] == 'Fog') | \n",
    "                           (accident['Weather_Conditions'] == 'Storm')]\n",
    "\n",
    "poor_road_accidents = accident[(accident['Road_Surface_Conditions'] == 'Wet or damp') | \n",
    "                         (accident['Road_Surface_Conditions'] == 'Snow') | \n",
    "                         (accident['Road_Surface_Conditions'] == 'Frost or ice') | \n",
    "                         (accident['Road_Surface_Conditions'] == 'Flood over 3cm')]\n",
    "\n",
    "combined_accidents = bad_weather_accidents['Accident Date'].count() + poor_road_accidents['Accident Date'].count()\n",
    "\n",
    "combined_accidents"
   ]
  },
  {
   "cell_type": "markdown",
   "id": "2f34d3c3-21b7-49ae-a126-73d2a8d98b50",
   "metadata": {},
   "source": [
    "<h3>Insight No.14</h3>\n",
    "<h4>A total of 211,115 accidents occurred under bad weather conditions (rain, snow, fog, or storms) combined with poor road surfaces (wet, icy, snowy, or flooded roads). </h4>"
   ]
  },
  {
   "cell_type": "markdown",
   "id": "0532a76d-862c-4dfb-8cd3-769adccb1dba",
   "metadata": {},
   "source": [
    "<h1>Question No.15: Do winter months have higher accident rates due to unwanted weather conditions?</h1>"
   ]
  },
  {
   "cell_type": "code",
   "execution_count": 133,
   "id": "4eae4dda-67d5-44f3-bcdd-345fd11d72ba",
   "metadata": {},
   "outputs": [
    {
     "data": {
      "text/plain": [
       "(154199, 23.339473481070232)"
      ]
     },
     "execution_count": 133,
     "metadata": {},
     "output_type": "execute_result"
    }
   ],
   "source": [
    "winter_accidents = accident[(accident['Month'] == 12) | (accident['Month'] == 1) | (accident['Month'] == 2)]['Month'].count()\n",
    "total_accidents = accident['Month'].count()\n",
    "\n",
    "winter_percentage = (winter_accidents / total_accidents) * 100\n",
    "winter_accidents, winter_percentage"
   ]
  },
  {
   "cell_type": "markdown",
   "id": "cc46f0a7-e289-4b54-b2ff-62c0e63ddbd7",
   "metadata": {},
   "source": [
    "<h3>Insight No.15</h3>\n",
    "<h4>It shows that 154,199 accidents occurred during the winter months, making up 23.34% of the total accidents.</h4>"
   ]
  },
  {
   "cell_type": "markdown",
   "id": "6f82e832-7a60-4873-8806-1f77fbf3e272",
   "metadata": {},
   "source": [
    "<h1>Question No.16: How do weather conditions, road surface conditions, and accident severity interact?</h1>"
   ]
  },
  {
   "cell_type": "code",
   "execution_count": 134,
   "id": "dbfdd6e0-f2f9-40c2-8c6e-cb30dc39b1e5",
   "metadata": {},
   "outputs": [
    {
     "data": {
      "text/plain": [
       "Weather_Conditions  Road_Surface_Conditions    Accident_Severity\n",
       "Fine + high winds   Dry                        Slight               4162\n",
       "                                               Serious               758\n",
       "                                               Fatal                 103\n",
       "                    Flood over 3cm. deep       Slight                 14\n",
       "                                               Fatal                   1\n",
       "                                                                    ... \n",
       "unaccounted         Wet or damp                Serious               169\n",
       "                                               Fatal                  29\n",
       "                    unknown surface condition  Slight                550\n",
       "                                               Serious                61\n",
       "                                               Fatal                   1\n",
       "Name: count, Length: 162, dtype: int64"
      ]
     },
     "execution_count": 134,
     "metadata": {},
     "output_type": "execute_result"
    }
   ],
   "source": [
    "weather_road_severity = accident.groupby(['Weather_Conditions', 'Road_Surface_Conditions'])['Accident_Severity'].value_counts()\n",
    "weather_road_severity"
   ]
  },
  {
   "cell_type": "markdown",
   "id": "1a0ee254-d07a-401a-95d4-cf076531ce33",
   "metadata": {},
   "source": [
    "<h3>Insight No.16</h3>\n",
    "<h4>It shows that most accidents occur in \"Fine + high winds\" conditions on dry roads, with 4,162 slight accidents, 758 serious accidents, and 103 fatal accidents. However, accidents on flooded roads, though less frequent, show a higher fatality percentage.</h4>"
   ]
  },
  {
   "cell_type": "markdown",
   "id": "62db2911-cd70-4102-902e-cfb0e3c059f5",
   "metadata": {},
   "source": [
    "<h1>Question No.17: How do road type, light conditions, and accident severity relate to each other?</h1>"
   ]
  },
  {
   "cell_type": "code",
   "execution_count": 135,
   "id": "43d39b37-f958-4bf2-a6a5-feb421a950a1",
   "metadata": {},
   "outputs": [
    {
     "data": {
      "text/plain": [
       "Road_Type         Light_Conditions             Accident_Severity\n",
       "Dual carriageway  Darkness - lighting unknown  Slight                 805\n",
       "                                               Serious                 93\n",
       "                                               Fatal                    7\n",
       "                  Darkness - lights lit        Slight               17025\n",
       "                                               Serious               2762\n",
       "                                                                    ...  \n",
       "unaccounted       Darkness - no lighting       Serious                 33\n",
       "                                               Fatal                    1\n",
       "                  Daylight                     Slight                3098\n",
       "                                               Serious                349\n",
       "                                               Fatal                   22\n",
       "Name: count, Length: 90, dtype: int64"
      ]
     },
     "execution_count": 135,
     "metadata": {},
     "output_type": "execute_result"
    }
   ],
   "source": [
    "road_light_severity = accident.groupby(['Road_Type', 'Light_Conditions'])['Accident_Severity'].value_counts()\n",
    "road_light_severity"
   ]
  },
  {
   "cell_type": "markdown",
   "id": "781fe66d-b784-4bf1-9769-4f02b3ebe052",
   "metadata": {},
   "source": [
    "<h3>Insight No.17</h3>\n",
    "<h4>Most accidents happen on dual carriageways under daylight conditions, with 17,025 slight, 2,762 serious, and 22 fatal accidents.</h4>"
   ]
  },
  {
   "cell_type": "markdown",
   "id": "4b476857-6608-410b-ace6-326a182d7839",
   "metadata": {},
   "source": [
    "<h1>Question No.18: How do vehicle type, urban/rural area, and accident severity correlate?</h1>"
   ]
  },
  {
   "cell_type": "code",
   "execution_count": 136,
   "id": "36797472-dd09-4a4b-bb83-09e1ff4100cb",
   "metadata": {},
   "outputs": [
    {
     "data": {
      "text/plain": [
       "Vehicle_Type                         Urban_or_Rural_Area  Accident_Severity\n",
       "Agricultural vehicle                 Rural                Slight                 540\n",
       "                                                          Serious                121\n",
       "                                                          Fatal                   14\n",
       "                                     Unallocated          Fatal                    0\n",
       "                                                          Serious                  0\n",
       "                                                                               ...  \n",
       "Van / Goods 3.5 tonnes mgw or under  Unallocated          Slight                   0\n",
       "                                                          Fatal                    0\n",
       "                                     Urban                Slight               19135\n",
       "                                                          Serious               2707\n",
       "                                                          Fatal                  161\n",
       "Name: count, Length: 144, dtype: int64"
      ]
     },
     "execution_count": 136,
     "metadata": {},
     "output_type": "execute_result"
    }
   ],
   "source": [
    "vehicle_area_severity = accident.groupby(['Vehicle_Type', 'Urban_or_Rural_Area'])['Accident_Severity'].value_counts()\n",
    "vehicle_area_severity"
   ]
  },
  {
   "cell_type": "markdown",
   "id": "05dc2c3f-b294-4a8e-b5a6-5c52e92b2d6a",
   "metadata": {},
   "source": [
    "<h3>Insight No.18</h3>\n",
    "<h4>Most accidents involving vans and goods vehicles happen in urban areas, with 19,135 slight, 2,707 serious, and 161 fatal accidents. </h4>"
   ]
  },
  {
   "cell_type": "markdown",
   "id": "ef68e618-41b0-464d-bf1b-1fa7013539dd",
   "metadata": {},
   "source": [
    "<h1>Question No.19: How does the combination of weather conditions, road type, and accident severity affect the number of casualties in road accidents across different years?</h1>"
   ]
  },
  {
   "cell_type": "code",
   "execution_count": 137,
   "id": "0610b991-2021-492c-a7f3-3aa5f618d650",
   "metadata": {},
   "outputs": [
    {
     "data": {
      "text/html": [
       "<div>\n",
       "<style scoped>\n",
       "    .dataframe tbody tr th:only-of-type {\n",
       "        vertical-align: middle;\n",
       "    }\n",
       "\n",
       "    .dataframe tbody tr th {\n",
       "        vertical-align: top;\n",
       "    }\n",
       "\n",
       "    .dataframe thead th {\n",
       "        text-align: right;\n",
       "    }\n",
       "</style>\n",
       "<table border=\"1\" class=\"dataframe\">\n",
       "  <thead>\n",
       "    <tr style=\"text-align: right;\">\n",
       "      <th></th>\n",
       "      <th></th>\n",
       "      <th>Accident_Severity</th>\n",
       "      <th>Fatal</th>\n",
       "      <th>Serious</th>\n",
       "      <th>Slight</th>\n",
       "    </tr>\n",
       "    <tr>\n",
       "      <th>Year</th>\n",
       "      <th>Weather_Conditions</th>\n",
       "      <th>Road_Type</th>\n",
       "      <th></th>\n",
       "      <th></th>\n",
       "      <th></th>\n",
       "    </tr>\n",
       "  </thead>\n",
       "  <tbody>\n",
       "    <tr>\n",
       "      <th rowspan=\"5\" valign=\"top\">2019</th>\n",
       "      <th rowspan=\"5\" valign=\"top\">Fine + high winds</th>\n",
       "      <th>Dual carriageway</th>\n",
       "      <td>22</td>\n",
       "      <td>67</td>\n",
       "      <td>548</td>\n",
       "    </tr>\n",
       "    <tr>\n",
       "      <th>One way street</th>\n",
       "      <td>2</td>\n",
       "      <td>9</td>\n",
       "      <td>45</td>\n",
       "    </tr>\n",
       "    <tr>\n",
       "      <th>Roundabout</th>\n",
       "      <td>1</td>\n",
       "      <td>19</td>\n",
       "      <td>178</td>\n",
       "    </tr>\n",
       "    <tr>\n",
       "      <th>Single carriageway</th>\n",
       "      <td>92</td>\n",
       "      <td>415</td>\n",
       "      <td>2004</td>\n",
       "    </tr>\n",
       "    <tr>\n",
       "      <th>Slip road</th>\n",
       "      <td>0</td>\n",
       "      <td>4</td>\n",
       "      <td>35</td>\n",
       "    </tr>\n",
       "    <tr>\n",
       "      <th>...</th>\n",
       "      <th>...</th>\n",
       "      <th>...</th>\n",
       "      <td>...</td>\n",
       "      <td>...</td>\n",
       "      <td>...</td>\n",
       "    </tr>\n",
       "    <tr>\n",
       "      <th rowspan=\"5\" valign=\"top\">2022</th>\n",
       "      <th rowspan=\"5\" valign=\"top\">unaccounted</th>\n",
       "      <th>One way street</th>\n",
       "      <td>0</td>\n",
       "      <td>7</td>\n",
       "      <td>67</td>\n",
       "    </tr>\n",
       "    <tr>\n",
       "      <th>Roundabout</th>\n",
       "      <td>1</td>\n",
       "      <td>11</td>\n",
       "      <td>303</td>\n",
       "    </tr>\n",
       "    <tr>\n",
       "      <th>Single carriageway</th>\n",
       "      <td>29</td>\n",
       "      <td>233</td>\n",
       "      <td>2130</td>\n",
       "    </tr>\n",
       "    <tr>\n",
       "      <th>Slip road</th>\n",
       "      <td>0</td>\n",
       "      <td>0</td>\n",
       "      <td>41</td>\n",
       "    </tr>\n",
       "    <tr>\n",
       "      <th>unaccounted</th>\n",
       "      <td>0</td>\n",
       "      <td>3</td>\n",
       "      <td>82</td>\n",
       "    </tr>\n",
       "  </tbody>\n",
       "</table>\n",
       "<p>216 rows × 3 columns</p>\n",
       "</div>"
      ],
      "text/plain": [
       "Accident_Severity                           Fatal  Serious  Slight\n",
       "Year Weather_Conditions Road_Type                                 \n",
       "2019 Fine + high winds  Dual carriageway       22       67     548\n",
       "                        One way street          2        9      45\n",
       "                        Roundabout              1       19     178\n",
       "                        Single carriageway     92      415    2004\n",
       "                        Slip road               0        4      35\n",
       "...                                           ...      ...     ...\n",
       "2022 unaccounted        One way street          0        7      67\n",
       "                        Roundabout              1       11     303\n",
       "                        Single carriageway     29      233    2130\n",
       "                        Slip road               0        0      41\n",
       "                        unaccounted             0        3      82\n",
       "\n",
       "[216 rows x 3 columns]"
      ]
     },
     "execution_count": 137,
     "metadata": {},
     "output_type": "execute_result"
    }
   ],
   "source": [
    "# Grouping by year, weather conditions, road type, and accident severity\n",
    "casualties_by_factors = accident.groupby(['Year', 'Weather_Conditions', 'Road_Type', 'Accident_Severity'])['Number_of_Casualties'].sum().reset_index()\n",
    "casualties = casualties_by_factors.pivot_table(index=['Year', 'Weather_Conditions', 'Road_Type'],\n",
    "                                                     columns='Accident_Severity',\n",
    "                                                     values='Number_of_Casualties',\n",
    "                                                     aggfunc='sum').fillna(0)\n",
    "\n",
    "casualties"
   ]
  },
  {
   "cell_type": "markdown",
   "id": "eee4f0d5-12a9-4bf4-9409-f97683736e78",
   "metadata": {},
   "source": [
    "<h3>Insight No.19</h3>\n",
    "<h4>Accidents in 2019 and 2022 show that dual carriageways and single carriageways are the most common road types for accidents, with serious accidents occurring more often on dual carriageways.</h4>"
   ]
  },
  {
   "cell_type": "markdown",
   "id": "4f87a13c-8efc-4b91-ba4e-dabf7eec66a1",
   "metadata": {},
   "source": [
    "<h1>Question No.20: How do different vehicle types and road conditions contribute to the severity of road accidents?</h1>"
   ]
  },
  {
   "cell_type": "code",
   "execution_count": 138,
   "id": "b51ad7ce-4e06-48ab-b10a-be6ff030d4b2",
   "metadata": {},
   "outputs": [
    {
     "data": {
      "text/html": [
       "<div>\n",
       "<style scoped>\n",
       "    .dataframe tbody tr th:only-of-type {\n",
       "        vertical-align: middle;\n",
       "    }\n",
       "\n",
       "    .dataframe tbody tr th {\n",
       "        vertical-align: top;\n",
       "    }\n",
       "\n",
       "    .dataframe thead th {\n",
       "        text-align: right;\n",
       "    }\n",
       "</style>\n",
       "<table border=\"1\" class=\"dataframe\">\n",
       "  <thead>\n",
       "    <tr style=\"text-align: right;\">\n",
       "      <th></th>\n",
       "      <th>Accident_Severity</th>\n",
       "      <th>Fatal</th>\n",
       "      <th>Serious</th>\n",
       "      <th>Slight</th>\n",
       "    </tr>\n",
       "    <tr>\n",
       "      <th>Vehicle_Type</th>\n",
       "      <th>Road_Surface_Conditions</th>\n",
       "      <th></th>\n",
       "      <th></th>\n",
       "      <th></th>\n",
       "    </tr>\n",
       "  </thead>\n",
       "  <tbody>\n",
       "    <tr>\n",
       "      <th rowspan=\"2\" valign=\"top\">Car</th>\n",
       "      <th>Dry</th>\n",
       "      <td>4403</td>\n",
       "      <td>46458</td>\n",
       "      <td>286450</td>\n",
       "    </tr>\n",
       "    <tr>\n",
       "      <th>Wet or damp</th>\n",
       "      <td>1981</td>\n",
       "      <td>17905</td>\n",
       "      <td>120878</td>\n",
       "    </tr>\n",
       "    <tr>\n",
       "      <th>Van / Goods 3.5 tonnes mgw or under</th>\n",
       "      <th>Dry</th>\n",
       "      <td>311</td>\n",
       "      <td>3165</td>\n",
       "      <td>19606</td>\n",
       "    </tr>\n",
       "    <tr>\n",
       "      <th>Bus or coach (17 or more pass seats)</th>\n",
       "      <th>Dry</th>\n",
       "      <td>220</td>\n",
       "      <td>2367</td>\n",
       "      <td>15017</td>\n",
       "    </tr>\n",
       "    <tr>\n",
       "      <th>Motorcycle over 500cc</th>\n",
       "      <th>Dry</th>\n",
       "      <td>217</td>\n",
       "      <td>2412</td>\n",
       "      <td>14809</td>\n",
       "    </tr>\n",
       "    <tr>\n",
       "      <th>...</th>\n",
       "      <th>...</th>\n",
       "      <td>...</td>\n",
       "      <td>...</td>\n",
       "      <td>...</td>\n",
       "    </tr>\n",
       "    <tr>\n",
       "      <th rowspan=\"5\" valign=\"top\">Ridden horse</th>\n",
       "      <th>Flood over 3cm. deep</th>\n",
       "      <td>0</td>\n",
       "      <td>0</td>\n",
       "      <td>0</td>\n",
       "    </tr>\n",
       "    <tr>\n",
       "      <th>Frost or ice</th>\n",
       "      <td>0</td>\n",
       "      <td>0</td>\n",
       "      <td>0</td>\n",
       "    </tr>\n",
       "    <tr>\n",
       "      <th>Snow</th>\n",
       "      <td>0</td>\n",
       "      <td>0</td>\n",
       "      <td>0</td>\n",
       "    </tr>\n",
       "    <tr>\n",
       "      <th>Wet or damp</th>\n",
       "      <td>0</td>\n",
       "      <td>0</td>\n",
       "      <td>1</td>\n",
       "    </tr>\n",
       "    <tr>\n",
       "      <th>unknown surface condition</th>\n",
       "      <td>0</td>\n",
       "      <td>0</td>\n",
       "      <td>0</td>\n",
       "    </tr>\n",
       "  </tbody>\n",
       "</table>\n",
       "<p>96 rows × 3 columns</p>\n",
       "</div>"
      ],
      "text/plain": [
       "Accident_Severity                                               Fatal  \\\n",
       "Vehicle_Type                         Road_Surface_Conditions            \n",
       "Car                                  Dry                         4403   \n",
       "                                     Wet or damp                 1981   \n",
       "Van / Goods 3.5 tonnes mgw or under  Dry                          311   \n",
       "Bus or coach (17 or more pass seats) Dry                          220   \n",
       "Motorcycle over 500cc                Dry                          217   \n",
       "...                                                               ...   \n",
       "Ridden horse                         Flood over 3cm. deep           0   \n",
       "                                     Frost or ice                   0   \n",
       "                                     Snow                           0   \n",
       "                                     Wet or damp                    0   \n",
       "                                     unknown surface condition      0   \n",
       "\n",
       "Accident_Severity                                               Serious  \\\n",
       "Vehicle_Type                         Road_Surface_Conditions              \n",
       "Car                                  Dry                          46458   \n",
       "                                     Wet or damp                  17905   \n",
       "Van / Goods 3.5 tonnes mgw or under  Dry                           3165   \n",
       "Bus or coach (17 or more pass seats) Dry                           2367   \n",
       "Motorcycle over 500cc                Dry                           2412   \n",
       "...                                                                 ...   \n",
       "Ridden horse                         Flood over 3cm. deep             0   \n",
       "                                     Frost or ice                     0   \n",
       "                                     Snow                             0   \n",
       "                                     Wet or damp                      0   \n",
       "                                     unknown surface condition        0   \n",
       "\n",
       "Accident_Severity                                               Slight  \n",
       "Vehicle_Type                         Road_Surface_Conditions            \n",
       "Car                                  Dry                        286450  \n",
       "                                     Wet or damp                120878  \n",
       "Van / Goods 3.5 tonnes mgw or under  Dry                         19606  \n",
       "Bus or coach (17 or more pass seats) Dry                         15017  \n",
       "Motorcycle over 500cc                Dry                         14809  \n",
       "...                                                                ...  \n",
       "Ridden horse                         Flood over 3cm. deep            0  \n",
       "                                     Frost or ice                    0  \n",
       "                                     Snow                            0  \n",
       "                                     Wet or damp                     1  \n",
       "                                     unknown surface condition       0  \n",
       "\n",
       "[96 rows x 3 columns]"
      ]
     },
     "execution_count": 138,
     "metadata": {},
     "output_type": "execute_result"
    }
   ],
   "source": [
    "accident_severity_by_factors = accident.groupby(['Vehicle_Type', 'Road_Surface_Conditions', 'Accident_Severity']).size().unstack().fillna(0)\n",
    "accident_severity_by_factors_sorted = accident_severity_by_factors.sort_values(by=['Fatal', 'Serious'], ascending=False)\n",
    "\n",
    "accident_severity_by_factors_sorted"
   ]
  },
  {
   "cell_type": "markdown",
   "id": "de76c191-d108-43cc-bbad-93f244e85157",
   "metadata": {},
   "source": [
    "<h3>Insight No.20</h3>\n",
    "<h4>Most accidents, especially fatal ones, occur on dry roads, with cars having the highest frequency. Wet or damp roads also contribute to accidents, but they are less severe compared to dry conditions, especially for vehicles like buses and motorcycles.</h4>"
   ]
  },
  {
   "cell_type": "markdown",
   "id": "62f153d3-c7f1-46ba-87b8-318da795c6e4",
   "metadata": {},
   "source": [
    "<h1>Question 21</h1>\n",
    "<h1>Which district areas have the highest accident frequency for the differenet levels of accident severity?</h1>"
   ]
  },
  {
   "cell_type": "code",
   "execution_count": 139,
   "id": "51c5940e-31ab-435f-a58e-dd141f072f9c",
   "metadata": {},
   "outputs": [
    {
     "data": {
      "text/html": [
       "<div>\n",
       "<style scoped>\n",
       "    .dataframe tbody tr th:only-of-type {\n",
       "        vertical-align: middle;\n",
       "    }\n",
       "\n",
       "    .dataframe tbody tr th {\n",
       "        vertical-align: top;\n",
       "    }\n",
       "\n",
       "    .dataframe thead th {\n",
       "        text-align: right;\n",
       "    }\n",
       "</style>\n",
       "<table border=\"1\" class=\"dataframe\">\n",
       "  <thead>\n",
       "    <tr style=\"text-align: right;\">\n",
       "      <th></th>\n",
       "      <th>District Area</th>\n",
       "      <th>Accident_Severity</th>\n",
       "      <th>Accident_Count</th>\n",
       "    </tr>\n",
       "  </thead>\n",
       "  <tbody>\n",
       "    <tr>\n",
       "      <th>0</th>\n",
       "      <td>Aberdeen City</td>\n",
       "      <td>Fatal</td>\n",
       "      <td>12</td>\n",
       "    </tr>\n",
       "    <tr>\n",
       "      <th>1</th>\n",
       "      <td>Aberdeen City</td>\n",
       "      <td>Serious</td>\n",
       "      <td>239</td>\n",
       "    </tr>\n",
       "    <tr>\n",
       "      <th>2</th>\n",
       "      <td>Aberdeen City</td>\n",
       "      <td>Slight</td>\n",
       "      <td>1072</td>\n",
       "    </tr>\n",
       "    <tr>\n",
       "      <th>3</th>\n",
       "      <td>Aberdeenshire</td>\n",
       "      <td>Fatal</td>\n",
       "      <td>66</td>\n",
       "    </tr>\n",
       "    <tr>\n",
       "      <th>4</th>\n",
       "      <td>Aberdeenshire</td>\n",
       "      <td>Serious</td>\n",
       "      <td>463</td>\n",
       "    </tr>\n",
       "    <tr>\n",
       "      <th>...</th>\n",
       "      <td>...</td>\n",
       "      <td>...</td>\n",
       "      <td>...</td>\n",
       "    </tr>\n",
       "    <tr>\n",
       "      <th>1261</th>\n",
       "      <td>Wyre Forest</td>\n",
       "      <td>Serious</td>\n",
       "      <td>132</td>\n",
       "    </tr>\n",
       "    <tr>\n",
       "      <th>1262</th>\n",
       "      <td>Wyre Forest</td>\n",
       "      <td>Slight</td>\n",
       "      <td>815</td>\n",
       "    </tr>\n",
       "    <tr>\n",
       "      <th>1263</th>\n",
       "      <td>York</td>\n",
       "      <td>Fatal</td>\n",
       "      <td>21</td>\n",
       "    </tr>\n",
       "    <tr>\n",
       "      <th>1264</th>\n",
       "      <td>York</td>\n",
       "      <td>Serious</td>\n",
       "      <td>255</td>\n",
       "    </tr>\n",
       "    <tr>\n",
       "      <th>1265</th>\n",
       "      <td>York</td>\n",
       "      <td>Slight</td>\n",
       "      <td>1621</td>\n",
       "    </tr>\n",
       "  </tbody>\n",
       "</table>\n",
       "<p>1266 rows × 3 columns</p>\n",
       "</div>"
      ],
      "text/plain": [
       "      District Area Accident_Severity  Accident_Count\n",
       "0     Aberdeen City             Fatal              12\n",
       "1     Aberdeen City           Serious             239\n",
       "2     Aberdeen City            Slight            1072\n",
       "3     Aberdeenshire             Fatal              66\n",
       "4     Aberdeenshire           Serious             463\n",
       "...             ...               ...             ...\n",
       "1261    Wyre Forest           Serious             132\n",
       "1262    Wyre Forest            Slight             815\n",
       "1263           York             Fatal              21\n",
       "1264           York           Serious             255\n",
       "1265           York            Slight            1621\n",
       "\n",
       "[1266 rows x 3 columns]"
      ]
     },
     "execution_count": 139,
     "metadata": {},
     "output_type": "execute_result"
    }
   ],
   "source": [
    "accident_by_area_severity = accident.groupby(['District Area', 'Accident_Severity']).size().reset_index(name='Accident_Count')\n",
    "accident_by_area_severity "
   ]
  },
  {
   "cell_type": "markdown",
   "id": "0ccbf614-f20e-4936-8ad7-258fdfb1e2a8",
   "metadata": {},
   "source": [
    "<h1>Insight 21</h1>\n",
    "<h3>The district in Aberdeenshire with the highest accident frequency also has the greatest number of fatal accidents. Meanwhile, urban areas like York experience fewer, less severe accidents.</h3>"
   ]
  },
  {
   "cell_type": "markdown",
   "id": "3bf9a92d-dde1-47fd-9cb5-df65766265fc",
   "metadata": {},
   "source": [
    "<h1>Question 22</h1>\n",
    "<h1>Which month has the highest number of accidents based on the dataset?</h1>"
   ]
  },
  {
   "cell_type": "code",
   "execution_count": 140,
   "id": "c5998839-ac2d-4fd1-a6ed-9550d6501b4a",
   "metadata": {},
   "outputs": [
    {
     "data": {
      "text/plain": [
       "Month\n",
       "11    60424\n",
       "dtype: int64"
      ]
     },
     "execution_count": 140,
     "metadata": {},
     "output_type": "execute_result"
    }
   ],
   "source": [
    "accidents_by_month = accident.groupby('Month').size()\n",
    "most_accidents = accidents_by_month.sort_values(ascending=False).head(1)\n",
    "\n",
    "most_accidents"
   ]
  },
  {
   "cell_type": "markdown",
   "id": "2698d63d-5975-4f42-982b-6eee4ed6e60f",
   "metadata": {},
   "source": [
    "<h1>Insight 22</h1>\n",
    "<h3>The month with the highest number of accidents is November, with 60,424 accidents.</h3>"
   ]
  },
  {
   "cell_type": "markdown",
   "id": "6646bb86-7861-4161-ad50-491c35d664c7",
   "metadata": {},
   "source": [
    "<h1>Question 23</h1>\n",
    "<h1>How many accidents occurred in rural and urban areas in each district?</h1>"
   ]
  },
  {
   "cell_type": "code",
   "execution_count": 141,
   "id": "d81935d5-1f0d-403b-96a5-af6a836b14c3",
   "metadata": {},
   "outputs": [
    {
     "data": {
      "text/html": [
       "<div>\n",
       "<style scoped>\n",
       "    .dataframe tbody tr th:only-of-type {\n",
       "        vertical-align: middle;\n",
       "    }\n",
       "\n",
       "    .dataframe tbody tr th {\n",
       "        vertical-align: top;\n",
       "    }\n",
       "\n",
       "    .dataframe thead th {\n",
       "        text-align: right;\n",
       "    }\n",
       "</style>\n",
       "<table border=\"1\" class=\"dataframe\">\n",
       "  <thead>\n",
       "    <tr style=\"text-align: right;\">\n",
       "      <th>Urban_or_Rural_Area</th>\n",
       "      <th>Rural</th>\n",
       "      <th>Unallocated</th>\n",
       "      <th>Urban</th>\n",
       "    </tr>\n",
       "    <tr>\n",
       "      <th>District Area</th>\n",
       "      <th></th>\n",
       "      <th></th>\n",
       "      <th></th>\n",
       "    </tr>\n",
       "  </thead>\n",
       "  <tbody>\n",
       "    <tr>\n",
       "      <th>Aberdeen City</th>\n",
       "      <td>207</td>\n",
       "      <td>0</td>\n",
       "      <td>1116</td>\n",
       "    </tr>\n",
       "    <tr>\n",
       "      <th>Aberdeenshire</th>\n",
       "      <td>1781</td>\n",
       "      <td>0</td>\n",
       "      <td>149</td>\n",
       "    </tr>\n",
       "    <tr>\n",
       "      <th>Adur</th>\n",
       "      <td>197</td>\n",
       "      <td>0</td>\n",
       "      <td>422</td>\n",
       "    </tr>\n",
       "    <tr>\n",
       "      <th>Allerdale</th>\n",
       "      <td>880</td>\n",
       "      <td>0</td>\n",
       "      <td>248</td>\n",
       "    </tr>\n",
       "    <tr>\n",
       "      <th>Alnwick</th>\n",
       "      <td>232</td>\n",
       "      <td>0</td>\n",
       "      <td>0</td>\n",
       "    </tr>\n",
       "    <tr>\n",
       "      <th>...</th>\n",
       "      <td>...</td>\n",
       "      <td>...</td>\n",
       "      <td>...</td>\n",
       "    </tr>\n",
       "    <tr>\n",
       "      <th>Wychavon</th>\n",
       "      <td>1088</td>\n",
       "      <td>0</td>\n",
       "      <td>273</td>\n",
       "    </tr>\n",
       "    <tr>\n",
       "      <th>Wycombe</th>\n",
       "      <td>739</td>\n",
       "      <td>0</td>\n",
       "      <td>990</td>\n",
       "    </tr>\n",
       "    <tr>\n",
       "      <th>Wyre</th>\n",
       "      <td>480</td>\n",
       "      <td>0</td>\n",
       "      <td>758</td>\n",
       "    </tr>\n",
       "    <tr>\n",
       "      <th>Wyre Forest</th>\n",
       "      <td>419</td>\n",
       "      <td>0</td>\n",
       "      <td>550</td>\n",
       "    </tr>\n",
       "    <tr>\n",
       "      <th>York</th>\n",
       "      <td>706</td>\n",
       "      <td>0</td>\n",
       "      <td>1191</td>\n",
       "    </tr>\n",
       "  </tbody>\n",
       "</table>\n",
       "<p>422 rows × 3 columns</p>\n",
       "</div>"
      ],
      "text/plain": [
       "Urban_or_Rural_Area  Rural  Unallocated  Urban\n",
       "District Area                                 \n",
       "Aberdeen City          207            0   1116\n",
       "Aberdeenshire         1781            0    149\n",
       "Adur                   197            0    422\n",
       "Allerdale              880            0    248\n",
       "Alnwick                232            0      0\n",
       "...                    ...          ...    ...\n",
       "Wychavon              1088            0    273\n",
       "Wycombe                739            0    990\n",
       "Wyre                   480            0    758\n",
       "Wyre Forest            419            0    550\n",
       "York                   706            0   1191\n",
       "\n",
       "[422 rows x 3 columns]"
      ]
     },
     "execution_count": 141,
     "metadata": {},
     "output_type": "execute_result"
    }
   ],
   "source": [
    "accidents_by_area = accident.groupby(['District Area', 'Urban_or_Rural_Area']).size().unstack(fill_value=0)\n",
    "accidents_by_area"
   ]
  },
  {
   "cell_type": "markdown",
   "id": "52e33f41-29fc-486a-97bc-5d186a1f5fa9",
   "metadata": {},
   "source": [
    "<h1>Insight 23</h1>\n",
    "<h3>In most districts, there are more accidents in urban areas than in rural areas, although some districts like Aberdeenshire have more accidents in rural areas.</h3>"
   ]
  }
 ],
 "metadata": {
  "kernelspec": {
   "display_name": "Python 3 (ipykernel)",
   "language": "python",
   "name": "python3"
  },
  "language_info": {
   "codemirror_mode": {
    "name": "ipython",
    "version": 3
   },
   "file_extension": ".py",
   "mimetype": "text/x-python",
   "name": "python",
   "nbconvert_exporter": "python",
   "pygments_lexer": "ipython3",
   "version": "3.11.3"
  }
 },
 "nbformat": 4,
 "nbformat_minor": 5
}
